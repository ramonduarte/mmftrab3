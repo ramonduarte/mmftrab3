{
 "cells": [
  {
   "cell_type": "code",
   "execution_count": 1,
   "metadata": {},
   "outputs": [],
   "source": [
    "import matplotlib.pyplot as plt\n",
    "import pandas as pd\n",
    "import numpy as np\n",
    "import math\n",
    "import re\n",
    "from scipy.stats import norm\n",
    "from bs4 import BeautifulSoup\n",
    "from datetime import datetime"
   ]
  },
  {
   "cell_type": "code",
   "execution_count": 24,
   "metadata": {},
   "outputs": [],
   "source": [
    "def implied_volatility(v, call, s, k, t, r):\n",
    "    limit = 100\n",
    "    max_error = 1.0e-5\n",
    "    sigma = 0.5\n",
    "    t = (frame[\"exercise date\"][0] - datetime.today()).days\n",
    "\n",
    "    for i in range(0, limit):\n",
    "        price = bs(call, s, k, t, r, sigma)\n",
    "        veg = vega(s, k, t, r, sigma)\n",
    "\n",
    "        diff = v - price\n",
    "\n",
    "        if (abs(diff) < max_error):\n",
    "            return sigma\n",
    "        sigma = sigma + diff/veg\n",
    "\n",
    "    return sigma\n",
    "\n",
    "def bs(call, s, k, t, r, v, q=0.0) -> float:\n",
    "    d1 = (math.log(s / k) + (r + 0.5 * v**2) * t) / (v * math.sqrt(t))\n",
    "    d2 = d1 - v * math.sqrt(t)\n",
    "    if call:\n",
    "        price = s * math.exp(-q * t) * norm.cdf(d1) \\\n",
    "                - k * math.exp(-r * t) * norm.cdf(d2)\n",
    "    else:\n",
    "        price = k * math.exp(-r * t) * norm.cdf(-d2) \\\n",
    "                - s * math.exp(-q * t) * norm.cdf(-d1)\n",
    "    return price\n",
    "\n",
    "def vega(s, k, t, r, v) -> float:\n",
    "    d1 = (math.log(s / k) + (r + 0.5 * v**2) * t) / (v * math.sqrt(t))\n",
    "    return s * math.sqrt(t) * norm.pdf(d1)"
   ]
  },
  {
   "cell_type": "code",
   "execution_count": 20,
   "metadata": {},
   "outputs": [],
   "source": [
    "frame = pd.read_csv(\"csv/SI_D_ROPC.txt\", sep=\"|\", header=None, skiprows=1,\n",
    "                    parse_dates=[3], \n",
    "                    names=[\"?\", \"stock\", \"stock type\", \"exercise date\", \"??\", \"???\",\n",
    "                           \"series\", \"????\", \"strike price\", \"?????\", \"covered\",\n",
    "                           \"uncovered\", \"total\", \"owner\", \"releaser\", \"??????\",\n",
    "                           \"option type\"])\n",
    "\n",
    "frame[frame[\"stock\"]==\"PETR\"].sort_values(by=[\"exercise date\", \"series\"])\n",
    "frame = frame.filter([\"stock\", \"exercise date\", \"series\", \"strike price\"])\n",
    "frame[\"call\"] = frame[\"series\"].str.get(4) < \"L\"\n",
    "\n",
    "with open(\"html/Opções de compra | Valor Econômico.html\") as f:\n",
    "    html_string = f.read()\n",
    "soup = BeautifulSoup(html_string, 'lxml')\n",
    "table = soup.find_all('table')[0]\n",
    "rows = table.find_all('tr', {'class': 'row'})[2:] # skip first 2 rows\n",
    "\n",
    "# regexp = r\"^([A-Z]{5}\\d+)([A-Z]{4})\\s+[O|P|N]{2,4}([a-z]{3}/\\d{2})(\\d+.\\d+)-*(\\d+.\\d+)\"\n",
    "regexp = r\"([A-Z]+\\d+)([A-Z]{4}).*([a-z]{3}\\/\\d{2})(\\d{1,2}\\,\\d{2})[\\d]+\\,[\\d]{2}[\\d]+\\,[\\d]{2}[\\d]+\\,[\\d]{2}([\\d]+\\,[\\d]{2})\"\n",
    "\n",
    "quotes = []\n",
    "for i in rows:\n",
    "    try:\n",
    "        x = re.search(regexp, i.get_text())\n",
    "        quotes.append(x.groups())\n",
    "    except AttributeError:\n",
    "        continue\n",
    "        \n",
    "frame[\"option price\"] = 0.0\n",
    "for q in quotes:\n",
    "    frame.loc[frame[\"series\"]==q[0], \"option price\"] = float(q[4].replace(\",\", \".\"))"
   ]
  },
  {
   "cell_type": "code",
   "execution_count": 25,
   "metadata": {},
   "outputs": [
    {
     "name": "stderr",
     "output_type": "stream",
     "text": [
      "/home/ramon/.virtualenvs/mmftrab3/lib/python3.7/site-packages/ipykernel_launcher.py:15: RuntimeWarning: divide by zero encountered in double_scalars\n",
      "  from ipykernel import kernelapp as app\n",
      "/home/ramon/.virtualenvs/mmftrab3/lib/python3.7/site-packages/ipykernel_launcher.py:20: RuntimeWarning: invalid value encountered in double_scalars\n",
      "/home/ramon/.virtualenvs/mmftrab3/lib/python3.7/site-packages/ipykernel_launcher.py:31: RuntimeWarning: invalid value encountered in double_scalars\n",
      "/home/ramon/.virtualenvs/mmftrab3/lib/python3.7/site-packages/ipykernel_launcher.py:20: RuntimeWarning: overflow encountered in double_scalars\n",
      "/home/ramon/.virtualenvs/mmftrab3/lib/python3.7/site-packages/ipykernel_launcher.py:31: RuntimeWarning: overflow encountered in double_scalars\n",
      "/home/ramon/.virtualenvs/mmftrab3/lib/python3.7/site-packages/ipykernel_launcher.py:15: RuntimeWarning: overflow encountered in double_scalars\n",
      "  from ipykernel import kernelapp as app\n"
     ]
    }
   ],
   "source": [
    "frame['implied volatility'] = frame.apply(lambda x: implied_volatility(x['option price'],\n",
    "                                                                       x['call'],\n",
    "                                                                       29.85,\n",
    "                                                                       x['strike price'],\n",
    "                                                                       x['exercise date'],\n",
    "                                                                       0.065), axis=1)"
   ]
  },
  {
   "cell_type": "code",
   "execution_count": 17,
   "metadata": {},
   "outputs": [
    {
     "data": {
      "text/plain": [
       "95"
      ]
     },
     "execution_count": 17,
     "metadata": {},
     "output_type": "execute_result"
    }
   ],
   "source": [
    "\n",
    "(frame[\"exercise date\"][0] - datetime.today()).days"
   ]
  },
  {
   "cell_type": "code",
   "execution_count": 16,
   "metadata": {},
   "outputs": [
    {
     "ename": "AttributeError",
     "evalue": "'Timestamp' object has no attribute 'days'",
     "output_type": "error",
     "traceback": [
      "\u001b[0;31m---------------------------------------------------------------------------\u001b[0m",
      "\u001b[0;31mAttributeError\u001b[0m                            Traceback (most recent call last)",
      "\u001b[0;32m<ipython-input-16-a726aa1a4fe1>\u001b[0m in \u001b[0;36m<module>\u001b[0;34m\u001b[0m\n\u001b[0;32m----> 1\u001b[0;31m \u001b[0mframe\u001b[0m\u001b[0;34m[\u001b[0m\u001b[0;34m\"exercise date\"\u001b[0m\u001b[0;34m]\u001b[0m\u001b[0;34m[\u001b[0m\u001b[0;36m0\u001b[0m\u001b[0;34m]\u001b[0m\u001b[0;34m.\u001b[0m\u001b[0mdays\u001b[0m\u001b[0;34m\u001b[0m\u001b[0;34m\u001b[0m\u001b[0m\n\u001b[0m",
      "\u001b[0;31mAttributeError\u001b[0m: 'Timestamp' object has no attribute 'days'"
     ]
    }
   ],
   "source": [
    "frame[\"exercise date\"][0].days"
   ]
  }
 ],
 "metadata": {
  "kernelspec": {
   "display_name": "Python 3",
   "language": "python",
   "name": "python3"
  },
  "language_info": {
   "codemirror_mode": {
    "name": "ipython",
    "version": 3
   },
   "file_extension": ".py",
   "mimetype": "text/x-python",
   "name": "python",
   "nbconvert_exporter": "python",
   "pygments_lexer": "ipython3",
   "version": "3.7.1"
  }
 },
 "nbformat": 4,
 "nbformat_minor": 2
}
